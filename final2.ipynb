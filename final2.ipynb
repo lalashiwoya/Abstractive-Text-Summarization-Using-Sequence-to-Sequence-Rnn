{
  "nbformat": 4,
  "nbformat_minor": 0,
  "metadata": {
    "colab": {
      "name": "final2.ipynb",
      "provenance": [],
      "mount_file_id": "11aBBFzHm_85cB_lMSbRphpnf0zHDIL4D",
      "authorship_tag": "ABX9TyNJUfW7VEsTNyUIXKV+UYHi",
      "include_colab_link": true
    },
    "kernelspec": {
      "name": "python3",
      "display_name": "Python 3"
    }
  },
  "cells": [
    {
      "cell_type": "markdown",
      "metadata": {
        "id": "view-in-github",
        "colab_type": "text"
      },
      "source": [
        "<a href=\"https://colab.research.google.com/github/lalashiwoya/Abstractive-Text-Summarization-Using-Sequence-to-Sequence-Rnn/blob/master/final2.ipynb\" target=\"_parent\"><img src=\"https://colab.research.google.com/assets/colab-badge.svg\" alt=\"Open In Colab\"/></a>"
      ]
    },
    {
      "cell_type": "code",
      "metadata": {
        "id": "lt00IJLlpftW",
        "outputId": "956bf0df-ccd4-4790-ded2-9cd009d8a089",
        "colab": {
          "base_uri": "https://localhost:8080/"
        }
      },
      "source": [
        "cd drive/My\\ Drive/Hiwi_corona/corona_RNN"
      ],
      "execution_count": 1,
      "outputs": [
        {
          "output_type": "stream",
          "text": [
            "/content/drive/My Drive/Hiwi_corona/corona_RNN\n"
          ],
          "name": "stdout"
        }
      ]
    },
    {
      "cell_type": "code",
      "metadata": {
        "id": "cLcMtzI_prAY"
      },
      "source": [
        "import pandas as pd\n",
        "import numpy as np\n",
        "import matplotlib.pyplot as plt\n",
        "\n",
        "TIME_STEP=1\n",
        "AFTER_DAY=1\n",
        "BATCH_SIZE=1\n",
        "EPOCHS=100 "
      ],
      "execution_count": 44,
      "outputs": []
    },
    {
      "cell_type": "code",
      "metadata": {
        "id": "7J-lneXWpz8W"
      },
      "source": [
        "feature_set=['uk','us','mcx','dji','dax']\n",
        "feature_dict={'vader':0,'flair':1,'uk':2,'us':3,'ge':4,'mcx':5,'dji':6,'dax':7}\n",
        "features=[]\n",
        "for item in feature_set:\n",
        "  features.append(feature_dict[item])\n",
        "\n",
        "data = pd.read_csv('data.csv')\n",
        "data = np.array(data,dtype=np.float32)\n",
        "data = data[:,features]\n",
        "features=np.arange(len(features))"
      ],
      "execution_count": 45,
      "outputs": []
    },
    {
      "cell_type": "code",
      "metadata": {
        "id": "7VczzPvxaZCa"
      },
      "source": [
        "from sklearn.preprocessing import RobustScaler \n",
        "scaler=RobustScaler().fit(data)\n",
        "data=scaler.transform(data)\n",
        "data_with_date=np.column_stack((data,np.arange(len(data))))"
      ],
      "execution_count": 46,
      "outputs": []
    },
    {
      "cell_type": "code",
      "metadata": {
        "id": "jEeI2bxmCYlk"
      },
      "source": [
        "def load_data(data, time_step=5, after_day=1, features=features,split=10): \n",
        "    seq_length = time_step + after_day\n",
        "    results=[]\n",
        "    for index in range(len(data)-seq_length+1):\n",
        "      results.append(data[index:index+seq_length])\n",
        "    results=np.array(results)\n",
        "\n",
        "    train_idx=[0,1,2,4,5,6,8]\n",
        "    #val_idx=[3,7,9]\n",
        "\n",
        "    train_split=[]\n",
        "    val_split=[]\n",
        "\n",
        "    division=results.shape[0]/float(split)\n",
        "\n",
        "    for i in range(results.shape[0]):\n",
        "      if i in train_idx:\n",
        "        for j in range(int(division)):\n",
        "          if int(round(i*division+j))<len(results):\n",
        "            train_split.append(results[int(round(i*division+j))])\n",
        "      else:\n",
        "        for j in range(int(division)):\n",
        "          if int(round(i*division+j))<len(results):\n",
        "            val_split.append(results[int(round(i*division+j))])\n",
        "      \n",
        "    train_split=np.array(train_split)\n",
        "    val_split=np.array(val_split)\n",
        "\n",
        "    x_train = train_split[:, :time_step]\n",
        "    y_train = train_split[:, time_step:]\n",
        "    x_val = val_split[:, :time_step]\n",
        "    y_val = val_split[:, time_step:]\n",
        "\n",
        "\n",
        "    x_train=np.append(x_train[:,:,:features],np.expand_dims(x_train[:,:,-1],axis=-1),axis=2)\n",
        "    y_train=np.append(y_train[:,:,:features],np.expand_dims(y_train[:,:,-1],axis=-1),axis=2)\n",
        "    x_val=np.append(x_val[:,:,:features],np.expand_dims(x_val[:,:,-1],axis=-1),axis=2)\n",
        "    y_val=np.append(y_val[:,:,:features],np.expand_dims(y_val[:,:,-1],axis=-1),axis=2)\n",
        "    \n",
        "    return x_train,y_train,x_val,y_val"
      ],
      "execution_count": 47,
      "outputs": []
    },
    {
      "cell_type": "code",
      "metadata": {
        "id": "KxXFvRQ0Iiz2"
      },
      "source": [
        "x_train,y_train,x_val,y_val=load_data(data=data_with_date, time_step=TIME_STEP, after_day=AFTER_DAY, features=len(features),split=10)"
      ],
      "execution_count": 48,
      "outputs": []
    },
    {
      "cell_type": "code",
      "metadata": {
        "id": "Huisd9hPtQFk",
        "outputId": "8fe208ab-fd6c-451f-d35e-dd48f8538773",
        "colab": {
          "base_uri": "https://localhost:8080/"
        }
      },
      "source": [
        "y_train.shape"
      ],
      "execution_count": 27,
      "outputs": [
        {
          "output_type": "execute_result",
          "data": {
            "text/plain": [
              "(84, 1, 6)"
            ]
          },
          "metadata": {
            "tags": []
          },
          "execution_count": 27
        }
      ]
    },
    {
      "cell_type": "code",
      "metadata": {
        "id": "1_ewOYzmU1NM"
      },
      "source": [
        "import tensorflow as tf\n",
        "from keras.models import Sequential\n",
        "from keras.layers import Dense, LSTM, RepeatVector, Dropout, Activation,LeakyReLU\n",
        "def simpleLSTM(input_shape,feature_len):\n",
        "   model = Sequential()\n",
        "   model.add(LSTM(32, input_shape=input_shape, return_sequences=True))\n",
        "   model.add(Dropout(0.2))\n",
        "   model.add(LSTM(16, input_shape=input_shape, return_sequences=False))\n",
        "   model.add(Dropout(0.2))\n",
        "   model.add(Dense(feature_len-1))\n",
        "   #adam = optimizers.Adam(lr=0.001, beta_1=0.9, beta_2=0.999, epsilon=1e-08, decay=0.0)\n",
        "   model.compile(loss='mse', optimizer=\"adam\", metrics=['accuracy'])\n",
        "   return model"
      ],
      "execution_count": 49,
      "outputs": []
    },
    {
      "cell_type": "code",
      "metadata": {
        "id": "hv7G4qHVU8Hb"
      },
      "source": [
        "feature_len=len(features)+1\n",
        "input_shape=(TIME_STEP,feature_len)\n",
        "checkpoint_path='model/best_model.ckpt'\n",
        "cp_callback = tf.keras.callbacks.ModelCheckpoint(filepath=checkpoint_path,save_weights_only=True,verbose=1)\n",
        "model=simpleLSTM(input_shape=input_shape,feature_len=feature_len)"
      ],
      "execution_count": 50,
      "outputs": []
    },
    {
      "cell_type": "code",
      "metadata": {
        "id": "X8aepeFiVPcE",
        "outputId": "47dee533-b873-49fe-939f-7d37404c46d3",
        "colab": {
          "base_uri": "https://localhost:8080/"
        }
      },
      "source": [
        "model.fit(x_train, y_train[:,:,:-1], epochs=EPOCHS, validation_data=(x_val, y_val[:,:,:-1]),callbacks=[cp_callback],batch_size=1,shuffle=False)"
      ],
      "execution_count": 51,
      "outputs": [
        {
          "output_type": "stream",
          "text": [
            "Epoch 1/100\n",
            "69/84 [=======================>......] - ETA: 0s - loss: 0.7757 - accuracy: 0.2464\n",
            "Epoch 00001: saving model to model/best_model.ckpt\n",
            "84/84 [==============================] - 1s 13ms/step - loss: 0.6544 - accuracy: 0.2619 - val_loss: 0.3584 - val_accuracy: 0.4444\n",
            "Epoch 2/100\n",
            "69/84 [=======================>......] - ETA: 0s - loss: 0.7005 - accuracy: 0.3623\n",
            "Epoch 00002: saving model to model/best_model.ckpt\n",
            "84/84 [==============================] - 0s 4ms/step - loss: 0.5892 - accuracy: 0.4167 - val_loss: 0.3582 - val_accuracy: 0.4444\n",
            "Epoch 3/100\n",
            "73/84 [=========================>....] - ETA: 0s - loss: 0.4870 - accuracy: 0.4384\n",
            "Epoch 00003: saving model to model/best_model.ckpt\n",
            "84/84 [==============================] - 0s 4ms/step - loss: 0.4305 - accuracy: 0.4405 - val_loss: 0.3680 - val_accuracy: 0.4444\n",
            "Epoch 4/100\n",
            "71/84 [========================>.....] - ETA: 0s - loss: 0.2656 - accuracy: 0.3380\n",
            "Epoch 00004: saving model to model/best_model.ckpt\n",
            "84/84 [==============================] - 0s 4ms/step - loss: 0.2367 - accuracy: 0.3810 - val_loss: 0.3868 - val_accuracy: 0.4444\n",
            "Epoch 5/100\n",
            "66/84 [======================>.......] - ETA: 0s - loss: 0.2138 - accuracy: 0.5455\n",
            "Epoch 00005: saving model to model/best_model.ckpt\n",
            "84/84 [==============================] - 0s 4ms/step - loss: 0.1933 - accuracy: 0.5595 - val_loss: 0.3948 - val_accuracy: 0.4444\n",
            "Epoch 6/100\n",
            "69/84 [=======================>......] - ETA: 0s - loss: 0.1727 - accuracy: 0.7681\n",
            "Epoch 00006: saving model to model/best_model.ckpt\n",
            "84/84 [==============================] - 0s 4ms/step - loss: 0.1653 - accuracy: 0.7381 - val_loss: 0.3308 - val_accuracy: 0.4444\n",
            "Epoch 7/100\n",
            "62/84 [=====================>........] - ETA: 0s - loss: 0.1938 - accuracy: 0.8226\n",
            "Epoch 00007: saving model to model/best_model.ckpt\n",
            "84/84 [==============================] - 0s 4ms/step - loss: 0.1724 - accuracy: 0.7738 - val_loss: 0.4042 - val_accuracy: 0.4444\n",
            "Epoch 8/100\n",
            "73/84 [=========================>....] - ETA: 0s - loss: 0.1848 - accuracy: 0.8493\n",
            "Epoch 00008: saving model to model/best_model.ckpt\n",
            "84/84 [==============================] - 0s 4ms/step - loss: 0.1767 - accuracy: 0.8214 - val_loss: 0.3039 - val_accuracy: 0.4444\n",
            "Epoch 9/100\n",
            "71/84 [========================>.....] - ETA: 0s - loss: 0.1785 - accuracy: 0.8451\n",
            "Epoch 00009: saving model to model/best_model.ckpt\n",
            "84/84 [==============================] - 0s 4ms/step - loss: 0.1719 - accuracy: 0.8214 - val_loss: 0.4158 - val_accuracy: 0.4444\n",
            "Epoch 10/100\n",
            "65/84 [======================>.......] - ETA: 0s - loss: 0.1619 - accuracy: 0.8769\n",
            "Epoch 00010: saving model to model/best_model.ckpt\n",
            "84/84 [==============================] - 0s 4ms/step - loss: 0.1625 - accuracy: 0.8333 - val_loss: 0.3846 - val_accuracy: 0.4444\n",
            "Epoch 11/100\n",
            "67/84 [======================>.......] - ETA: 0s - loss: 0.1665 - accuracy: 0.8358\n",
            "Epoch 00011: saving model to model/best_model.ckpt\n",
            "84/84 [==============================] - 0s 4ms/step - loss: 0.1543 - accuracy: 0.8095 - val_loss: 0.3061 - val_accuracy: 0.4444\n",
            "Epoch 12/100\n",
            "70/84 [========================>.....] - ETA: 0s - loss: 0.1535 - accuracy: 0.8429\n",
            "Epoch 00012: saving model to model/best_model.ckpt\n",
            "84/84 [==============================] - 0s 4ms/step - loss: 0.1422 - accuracy: 0.8095 - val_loss: 0.3058 - val_accuracy: 0.4444\n",
            "Epoch 13/100\n",
            "70/84 [========================>.....] - ETA: 0s - loss: 0.1478 - accuracy: 0.8143\n",
            "Epoch 00013: saving model to model/best_model.ckpt\n",
            "84/84 [==============================] - 0s 4ms/step - loss: 0.1329 - accuracy: 0.7738 - val_loss: 0.3067 - val_accuracy: 0.4444\n",
            "Epoch 14/100\n",
            "64/84 [=====================>........] - ETA: 0s - loss: 0.1479 - accuracy: 0.8438\n",
            "Epoch 00014: saving model to model/best_model.ckpt\n",
            "84/84 [==============================] - 0s 4ms/step - loss: 0.1336 - accuracy: 0.8095 - val_loss: 0.2953 - val_accuracy: 0.4444\n",
            "Epoch 15/100\n",
            "73/84 [=========================>....] - ETA: 0s - loss: 0.1320 - accuracy: 0.8219\n",
            "Epoch 00015: saving model to model/best_model.ckpt\n",
            "84/84 [==============================] - 0s 3ms/step - loss: 0.1233 - accuracy: 0.7976 - val_loss: 0.2892 - val_accuracy: 0.4444\n",
            "Epoch 16/100\n",
            "70/84 [========================>.....] - ETA: 0s - loss: 0.1524 - accuracy: 0.8286\n",
            "Epoch 00016: saving model to model/best_model.ckpt\n",
            "84/84 [==============================] - 0s 4ms/step - loss: 0.1397 - accuracy: 0.7976 - val_loss: 0.2889 - val_accuracy: 0.4444\n",
            "Epoch 17/100\n",
            "63/84 [=====================>........] - ETA: 0s - loss: 0.1256 - accuracy: 0.8413\n",
            "Epoch 00017: saving model to model/best_model.ckpt\n",
            "84/84 [==============================] - 0s 4ms/step - loss: 0.1148 - accuracy: 0.8095 - val_loss: 0.2959 - val_accuracy: 0.4444\n",
            "Epoch 18/100\n",
            "70/84 [========================>.....] - ETA: 0s - loss: 0.1343 - accuracy: 0.8714\n",
            "Epoch 00018: saving model to model/best_model.ckpt\n",
            "84/84 [==============================] - 0s 3ms/step - loss: 0.1275 - accuracy: 0.8333 - val_loss: 0.2855 - val_accuracy: 0.4444\n",
            "Epoch 19/100\n",
            "72/84 [========================>.....] - ETA: 0s - loss: 0.1246 - accuracy: 0.8333\n",
            "Epoch 00019: saving model to model/best_model.ckpt\n",
            "84/84 [==============================] - 0s 3ms/step - loss: 0.1158 - accuracy: 0.7976 - val_loss: 0.2719 - val_accuracy: 0.4444\n",
            "Epoch 20/100\n",
            "75/84 [=========================>....] - ETA: 0s - loss: 0.1105 - accuracy: 0.8267\n",
            "Epoch 00020: saving model to model/best_model.ckpt\n",
            "84/84 [==============================] - 0s 3ms/step - loss: 0.1030 - accuracy: 0.7857 - val_loss: 0.2758 - val_accuracy: 0.4444\n",
            "Epoch 21/100\n",
            "66/84 [======================>.......] - ETA: 0s - loss: 0.1123 - accuracy: 0.8333\n",
            "Epoch 00021: saving model to model/best_model.ckpt\n",
            "84/84 [==============================] - 0s 4ms/step - loss: 0.1080 - accuracy: 0.7976 - val_loss: 0.2405 - val_accuracy: 0.4444\n",
            "Epoch 22/100\n",
            "72/84 [========================>.....] - ETA: 0s - loss: 0.1210 - accuracy: 0.8333\n",
            "Epoch 00022: saving model to model/best_model.ckpt\n",
            "84/84 [==============================] - 0s 4ms/step - loss: 0.1122 - accuracy: 0.7976 - val_loss: 0.2443 - val_accuracy: 0.4444\n",
            "Epoch 23/100\n",
            "79/84 [===========================>..] - ETA: 0s - loss: 0.1094 - accuracy: 0.8101\n",
            "Epoch 00023: saving model to model/best_model.ckpt\n",
            "84/84 [==============================] - 0s 4ms/step - loss: 0.1139 - accuracy: 0.7976 - val_loss: 0.2415 - val_accuracy: 0.4444\n",
            "Epoch 24/100\n",
            "71/84 [========================>.....] - ETA: 0s - loss: 0.1192 - accuracy: 0.8451\n",
            "Epoch 00024: saving model to model/best_model.ckpt\n",
            "84/84 [==============================] - 0s 3ms/step - loss: 0.1119 - accuracy: 0.7976 - val_loss: 0.2400 - val_accuracy: 0.4444\n",
            "Epoch 25/100\n",
            "68/84 [=======================>......] - ETA: 0s - loss: 0.1211 - accuracy: 0.8235\n",
            "Epoch 00025: saving model to model/best_model.ckpt\n",
            "84/84 [==============================] - 0s 4ms/step - loss: 0.1080 - accuracy: 0.7976 - val_loss: 0.2308 - val_accuracy: 0.4444\n",
            "Epoch 26/100\n",
            "66/84 [======================>.......] - ETA: 0s - loss: 0.0990 - accuracy: 0.8788\n",
            "Epoch 00026: saving model to model/best_model.ckpt\n",
            "84/84 [==============================] - 0s 4ms/step - loss: 0.0907 - accuracy: 0.8333 - val_loss: 0.2327 - val_accuracy: 0.4444\n",
            "Epoch 27/100\n",
            "72/84 [========================>.....] - ETA: 0s - loss: 0.0983 - accuracy: 0.8750\n",
            "Epoch 00027: saving model to model/best_model.ckpt\n",
            "84/84 [==============================] - 0s 4ms/step - loss: 0.0926 - accuracy: 0.8452 - val_loss: 0.2183 - val_accuracy: 0.4444\n",
            "Epoch 28/100\n",
            "60/84 [====================>.........] - ETA: 0s - loss: 0.1025 - accuracy: 0.8333\n",
            "Epoch 00028: saving model to model/best_model.ckpt\n",
            "84/84 [==============================] - 0s 4ms/step - loss: 0.0944 - accuracy: 0.8095 - val_loss: 0.2243 - val_accuracy: 0.4444\n",
            "Epoch 29/100\n",
            "73/84 [=========================>....] - ETA: 0s - loss: 0.1007 - accuracy: 0.8630\n",
            "Epoch 00029: saving model to model/best_model.ckpt\n",
            "84/84 [==============================] - 0s 4ms/step - loss: 0.0968 - accuracy: 0.8333 - val_loss: 0.2219 - val_accuracy: 0.5278\n",
            "Epoch 30/100\n",
            "72/84 [========================>.....] - ETA: 0s - loss: 0.0896 - accuracy: 0.8611\n",
            "Epoch 00030: saving model to model/best_model.ckpt\n",
            "84/84 [==============================] - 0s 3ms/step - loss: 0.0839 - accuracy: 0.8095 - val_loss: 0.2054 - val_accuracy: 0.5278\n",
            "Epoch 31/100\n",
            "74/84 [=========================>....] - ETA: 0s - loss: 0.0861 - accuracy: 0.8649\n",
            "Epoch 00031: saving model to model/best_model.ckpt\n",
            "84/84 [==============================] - 0s 3ms/step - loss: 0.0804 - accuracy: 0.8333 - val_loss: 0.2054 - val_accuracy: 0.5278\n",
            "Epoch 32/100\n",
            "68/84 [=======================>......] - ETA: 0s - loss: 0.0930 - accuracy: 0.9118\n",
            "Epoch 00032: saving model to model/best_model.ckpt\n",
            "84/84 [==============================] - 0s 4ms/step - loss: 0.0892 - accuracy: 0.8571 - val_loss: 0.2067 - val_accuracy: 0.5278\n",
            "Epoch 33/100\n",
            "84/84 [==============================] - ETA: 0s - loss: 0.0881 - accuracy: 0.8095\n",
            "Epoch 00033: saving model to model/best_model.ckpt\n",
            "84/84 [==============================] - 0s 5ms/step - loss: 0.0881 - accuracy: 0.8095 - val_loss: 0.2120 - val_accuracy: 0.5278\n",
            "Epoch 34/100\n",
            "78/84 [==========================>...] - ETA: 0s - loss: 0.0971 - accuracy: 0.8846\n",
            "Epoch 00034: saving model to model/best_model.ckpt\n",
            "84/84 [==============================] - 1s 7ms/step - loss: 0.0925 - accuracy: 0.8571 - val_loss: 0.1937 - val_accuracy: 0.5278\n",
            "Epoch 35/100\n",
            "82/84 [============================>.] - ETA: 0s - loss: 0.0780 - accuracy: 0.8415\n",
            "Epoch 00035: saving model to model/best_model.ckpt\n",
            "84/84 [==============================] - 1s 7ms/step - loss: 0.0767 - accuracy: 0.8452 - val_loss: 0.2037 - val_accuracy: 0.5278\n",
            "Epoch 36/100\n",
            "81/84 [===========================>..] - ETA: 0s - loss: 0.0735 - accuracy: 0.8395\n",
            "Epoch 00036: saving model to model/best_model.ckpt\n",
            "84/84 [==============================] - 1s 12ms/step - loss: 0.0716 - accuracy: 0.8452 - val_loss: 0.1883 - val_accuracy: 0.5278\n",
            "Epoch 37/100\n",
            "80/84 [===========================>..] - ETA: 0s - loss: 0.0774 - accuracy: 0.8500\n",
            "Epoch 00037: saving model to model/best_model.ckpt\n",
            "84/84 [==============================] - 1s 12ms/step - loss: 0.0760 - accuracy: 0.8452 - val_loss: 0.2115 - val_accuracy: 0.5278\n",
            "Epoch 38/100\n",
            "81/84 [===========================>..] - ETA: 0s - loss: 0.0700 - accuracy: 0.8519\n",
            "Epoch 00038: saving model to model/best_model.ckpt\n",
            "84/84 [==============================] - 1s 10ms/step - loss: 0.0688 - accuracy: 0.8571 - val_loss: 0.1832 - val_accuracy: 0.5278\n",
            "Epoch 39/100\n",
            "76/84 [==========================>...] - ETA: 0s - loss: 0.0960 - accuracy: 0.8684\n",
            "Epoch 00039: saving model to model/best_model.ckpt\n",
            "84/84 [==============================] - 1s 6ms/step - loss: 0.0945 - accuracy: 0.8333 - val_loss: 0.2272 - val_accuracy: 0.5278\n",
            "Epoch 40/100\n",
            "82/84 [============================>.] - ETA: 0s - loss: 0.0897 - accuracy: 0.8293\n",
            "Epoch 00040: saving model to model/best_model.ckpt\n",
            "84/84 [==============================] - 1s 7ms/step - loss: 0.0882 - accuracy: 0.8333 - val_loss: 0.2175 - val_accuracy: 0.5278\n",
            "Epoch 41/100\n",
            "83/84 [============================>.] - ETA: 0s - loss: 0.0784 - accuracy: 0.8434\n",
            "Epoch 00041: saving model to model/best_model.ckpt\n",
            "84/84 [==============================] - 1s 11ms/step - loss: 0.0798 - accuracy: 0.8452 - val_loss: 0.1981 - val_accuracy: 0.4444\n",
            "Epoch 42/100\n",
            "84/84 [==============================] - ETA: 0s - loss: 0.0929 - accuracy: 0.7857\n",
            "Epoch 00042: saving model to model/best_model.ckpt\n",
            "84/84 [==============================] - 1s 7ms/step - loss: 0.0929 - accuracy: 0.7857 - val_loss: 0.1969 - val_accuracy: 0.5278\n",
            "Epoch 43/100\n",
            "73/84 [=========================>....] - ETA: 0s - loss: 0.0799 - accuracy: 0.8356\n",
            "Epoch 00043: saving model to model/best_model.ckpt\n",
            "84/84 [==============================] - 0s 5ms/step - loss: 0.0769 - accuracy: 0.8095 - val_loss: 0.1892 - val_accuracy: 0.5278\n",
            "Epoch 44/100\n",
            "83/84 [============================>.] - ETA: 0s - loss: 0.0693 - accuracy: 0.8554\n",
            "Epoch 00044: saving model to model/best_model.ckpt\n",
            "84/84 [==============================] - 1s 6ms/step - loss: 0.0691 - accuracy: 0.8571 - val_loss: 0.1848 - val_accuracy: 0.5278\n",
            "Epoch 45/100\n",
            "83/84 [============================>.] - ETA: 0s - loss: 0.0813 - accuracy: 0.8554\n",
            "Epoch 00045: saving model to model/best_model.ckpt\n",
            "84/84 [==============================] - 1s 6ms/step - loss: 0.0806 - accuracy: 0.8571 - val_loss: 0.2105 - val_accuracy: 0.5278\n",
            "Epoch 46/100\n",
            "75/84 [=========================>....] - ETA: 0s - loss: 0.0745 - accuracy: 0.8933\n",
            "Epoch 00046: saving model to model/best_model.ckpt\n",
            "84/84 [==============================] - 1s 6ms/step - loss: 0.0732 - accuracy: 0.8571 - val_loss: 0.2201 - val_accuracy: 0.5278\n",
            "Epoch 47/100\n",
            "82/84 [============================>.] - ETA: 0s - loss: 0.0753 - accuracy: 0.8415\n",
            "Epoch 00047: saving model to model/best_model.ckpt\n",
            "84/84 [==============================] - 1s 6ms/step - loss: 0.0738 - accuracy: 0.8452 - val_loss: 0.1990 - val_accuracy: 0.4444\n",
            "Epoch 48/100\n",
            "82/84 [============================>.] - ETA: 0s - loss: 0.0697 - accuracy: 0.8293\n",
            "Epoch 00048: saving model to model/best_model.ckpt\n",
            "84/84 [==============================] - 1s 7ms/step - loss: 0.0689 - accuracy: 0.8214 - val_loss: 0.1928 - val_accuracy: 0.6389\n",
            "Epoch 49/100\n",
            "73/84 [=========================>....] - ETA: 0s - loss: 0.0750 - accuracy: 0.8767\n",
            "Epoch 00049: saving model to model/best_model.ckpt\n",
            "84/84 [==============================] - 1s 6ms/step - loss: 0.0697 - accuracy: 0.8452 - val_loss: 0.1867 - val_accuracy: 0.5278\n",
            "Epoch 50/100\n",
            "62/84 [=====================>........] - ETA: 0s - loss: 0.0671 - accuracy: 0.8065\n",
            "Epoch 00050: saving model to model/best_model.ckpt\n",
            "84/84 [==============================] - 0s 6ms/step - loss: 0.0650 - accuracy: 0.7976 - val_loss: 0.1921 - val_accuracy: 0.5000\n",
            "Epoch 51/100\n",
            "72/84 [========================>.....] - ETA: 0s - loss: 0.0822 - accuracy: 0.8611\n",
            "Epoch 00051: saving model to model/best_model.ckpt\n",
            "84/84 [==============================] - 0s 4ms/step - loss: 0.0777 - accuracy: 0.8333 - val_loss: 0.1882 - val_accuracy: 0.5278\n",
            "Epoch 52/100\n",
            "66/84 [======================>.......] - ETA: 0s - loss: 0.0721 - accuracy: 0.8636\n",
            "Epoch 00052: saving model to model/best_model.ckpt\n",
            "84/84 [==============================] - 0s 4ms/step - loss: 0.0682 - accuracy: 0.8333 - val_loss: 0.1960 - val_accuracy: 0.6111\n",
            "Epoch 53/100\n",
            "76/84 [==========================>...] - ETA: 0s - loss: 0.0799 - accuracy: 0.8816\n",
            "Epoch 00053: saving model to model/best_model.ckpt\n",
            "84/84 [==============================] - 0s 4ms/step - loss: 0.0753 - accuracy: 0.8452 - val_loss: 0.1912 - val_accuracy: 0.5278\n",
            "Epoch 54/100\n",
            "72/84 [========================>.....] - ETA: 0s - loss: 0.0644 - accuracy: 0.8333\n",
            "Epoch 00054: saving model to model/best_model.ckpt\n",
            "84/84 [==============================] - 0s 4ms/step - loss: 0.0597 - accuracy: 0.8095 - val_loss: 0.2030 - val_accuracy: 0.6389\n",
            "Epoch 55/100\n",
            "77/84 [==========================>...] - ETA: 0s - loss: 0.0619 - accuracy: 0.8831\n",
            "Epoch 00055: saving model to model/best_model.ckpt\n",
            "84/84 [==============================] - 0s 4ms/step - loss: 0.0602 - accuracy: 0.8452 - val_loss: 0.1951 - val_accuracy: 0.5556\n",
            "Epoch 56/100\n",
            "67/84 [======================>.......] - ETA: 0s - loss: 0.0726 - accuracy: 0.8955\n",
            "Epoch 00056: saving model to model/best_model.ckpt\n",
            "84/84 [==============================] - 0s 4ms/step - loss: 0.0683 - accuracy: 0.8571 - val_loss: 0.2140 - val_accuracy: 0.5833\n",
            "Epoch 57/100\n",
            "78/84 [==========================>...] - ETA: 0s - loss: 0.0756 - accuracy: 0.8590\n",
            "Epoch 00057: saving model to model/best_model.ckpt\n",
            "84/84 [==============================] - 0s 4ms/step - loss: 0.0729 - accuracy: 0.8333 - val_loss: 0.1883 - val_accuracy: 0.6389\n",
            "Epoch 58/100\n",
            "83/84 [============================>.] - ETA: 0s - loss: 0.0715 - accuracy: 0.8434\n",
            "Epoch 00058: saving model to model/best_model.ckpt\n",
            "84/84 [==============================] - 0s 4ms/step - loss: 0.0710 - accuracy: 0.8452 - val_loss: 0.1997 - val_accuracy: 0.5278\n",
            "Epoch 59/100\n",
            "68/84 [=======================>......] - ETA: 0s - loss: 0.0739 - accuracy: 0.8971\n",
            "Epoch 00059: saving model to model/best_model.ckpt\n",
            "84/84 [==============================] - 0s 4ms/step - loss: 0.0710 - accuracy: 0.8571 - val_loss: 0.1859 - val_accuracy: 0.5278\n",
            "Epoch 60/100\n",
            "72/84 [========================>.....] - ETA: 0s - loss: 0.0686 - accuracy: 0.8750\n",
            "Epoch 00060: saving model to model/best_model.ckpt\n",
            "84/84 [==============================] - 0s 4ms/step - loss: 0.0637 - accuracy: 0.8452 - val_loss: 0.1912 - val_accuracy: 0.6389\n",
            "Epoch 61/100\n",
            "72/84 [========================>.....] - ETA: 0s - loss: 0.0790 - accuracy: 0.9167\n",
            "Epoch 00061: saving model to model/best_model.ckpt\n",
            "84/84 [==============================] - 0s 4ms/step - loss: 0.0746 - accuracy: 0.8810 - val_loss: 0.1917 - val_accuracy: 0.5833\n",
            "Epoch 62/100\n",
            "73/84 [=========================>....] - ETA: 0s - loss: 0.0669 - accuracy: 0.9041\n",
            "Epoch 00062: saving model to model/best_model.ckpt\n",
            "84/84 [==============================] - 0s 4ms/step - loss: 0.0622 - accuracy: 0.8690 - val_loss: 0.1991 - val_accuracy: 0.6389\n",
            "Epoch 63/100\n",
            "71/84 [========================>.....] - ETA: 0s - loss: 0.0678 - accuracy: 0.8592\n",
            "Epoch 00063: saving model to model/best_model.ckpt\n",
            "84/84 [==============================] - 0s 4ms/step - loss: 0.0629 - accuracy: 0.8333 - val_loss: 0.1764 - val_accuracy: 0.5278\n",
            "Epoch 64/100\n",
            "68/84 [=======================>......] - ETA: 0s - loss: 0.0549 - accuracy: 0.8824\n",
            "Epoch 00064: saving model to model/best_model.ckpt\n",
            "84/84 [==============================] - 0s 4ms/step - loss: 0.0518 - accuracy: 0.8452 - val_loss: 0.1861 - val_accuracy: 0.5278\n",
            "Epoch 65/100\n",
            "82/84 [============================>.] - ETA: 0s - loss: 0.0663 - accuracy: 0.8415\n",
            "Epoch 00065: saving model to model/best_model.ckpt\n",
            "84/84 [==============================] - 0s 4ms/step - loss: 0.0655 - accuracy: 0.8452 - val_loss: 0.2045 - val_accuracy: 0.6389\n",
            "Epoch 66/100\n",
            "84/84 [==============================] - ETA: 0s - loss: 0.0815 - accuracy: 0.8690\n",
            "Epoch 00066: saving model to model/best_model.ckpt\n",
            "84/84 [==============================] - 0s 4ms/step - loss: 0.0815 - accuracy: 0.8690 - val_loss: 0.1713 - val_accuracy: 0.6389\n",
            "Epoch 67/100\n",
            "77/84 [==========================>...] - ETA: 0s - loss: 0.0544 - accuracy: 0.9221\n",
            "Epoch 00067: saving model to model/best_model.ckpt\n",
            "84/84 [==============================] - 0s 4ms/step - loss: 0.0523 - accuracy: 0.8810 - val_loss: 0.1916 - val_accuracy: 0.6389\n",
            "Epoch 68/100\n",
            "68/84 [=======================>......] - ETA: 0s - loss: 0.0841 - accuracy: 0.8971\n",
            "Epoch 00068: saving model to model/best_model.ckpt\n",
            "84/84 [==============================] - 0s 4ms/step - loss: 0.0752 - accuracy: 0.8571 - val_loss: 0.1727 - val_accuracy: 0.6389\n",
            "Epoch 69/100\n",
            "84/84 [==============================] - ETA: 0s - loss: 0.0652 - accuracy: 0.8690\n",
            "Epoch 00069: saving model to model/best_model.ckpt\n",
            "84/84 [==============================] - 0s 4ms/step - loss: 0.0652 - accuracy: 0.8690 - val_loss: 0.1953 - val_accuracy: 0.6389\n",
            "Epoch 70/100\n",
            "69/84 [=======================>......] - ETA: 0s - loss: 0.0638 - accuracy: 0.8696\n",
            "Epoch 00070: saving model to model/best_model.ckpt\n",
            "84/84 [==============================] - 0s 4ms/step - loss: 0.0620 - accuracy: 0.8214 - val_loss: 0.1682 - val_accuracy: 0.6389\n",
            "Epoch 71/100\n",
            "71/84 [========================>.....] - ETA: 0s - loss: 0.0614 - accuracy: 0.9437\n",
            "Epoch 00071: saving model to model/best_model.ckpt\n",
            "84/84 [==============================] - 0s 4ms/step - loss: 0.0570 - accuracy: 0.9048 - val_loss: 0.2019 - val_accuracy: 0.6389\n",
            "Epoch 72/100\n",
            "80/84 [===========================>..] - ETA: 0s - loss: 0.0594 - accuracy: 0.8625\n",
            "Epoch 00072: saving model to model/best_model.ckpt\n",
            "84/84 [==============================] - 0s 4ms/step - loss: 0.0580 - accuracy: 0.8571 - val_loss: 0.1776 - val_accuracy: 0.6389\n",
            "Epoch 73/100\n",
            "68/84 [=======================>......] - ETA: 0s - loss: 0.0646 - accuracy: 0.8676\n",
            "Epoch 00073: saving model to model/best_model.ckpt\n",
            "84/84 [==============================] - 0s 4ms/step - loss: 0.0616 - accuracy: 0.8214 - val_loss: 0.1739 - val_accuracy: 0.6389\n",
            "Epoch 74/100\n",
            "75/84 [=========================>....] - ETA: 0s - loss: 0.0638 - accuracy: 0.8933\n",
            "Epoch 00074: saving model to model/best_model.ckpt\n",
            "84/84 [==============================] - 0s 4ms/step - loss: 0.0599 - accuracy: 0.8571 - val_loss: 0.1859 - val_accuracy: 0.6389\n",
            "Epoch 75/100\n",
            "71/84 [========================>.....] - ETA: 0s - loss: 0.0624 - accuracy: 0.8873\n",
            "Epoch 00075: saving model to model/best_model.ckpt\n",
            "84/84 [==============================] - 0s 4ms/step - loss: 0.0560 - accuracy: 0.8571 - val_loss: 0.1816 - val_accuracy: 0.6389\n",
            "Epoch 76/100\n",
            "67/84 [======================>.......] - ETA: 0s - loss: 0.0544 - accuracy: 0.9104\n",
            "Epoch 00076: saving model to model/best_model.ckpt\n",
            "84/84 [==============================] - 0s 4ms/step - loss: 0.0536 - accuracy: 0.8690 - val_loss: 0.1754 - val_accuracy: 0.6389\n",
            "Epoch 77/100\n",
            "81/84 [===========================>..] - ETA: 0s - loss: 0.0512 - accuracy: 0.8889\n",
            "Epoch 00077: saving model to model/best_model.ckpt\n",
            "84/84 [==============================] - 0s 4ms/step - loss: 0.0504 - accuracy: 0.8929 - val_loss: 0.1825 - val_accuracy: 0.5556\n",
            "Epoch 78/100\n",
            "69/84 [=======================>......] - ETA: 0s - loss: 0.0562 - accuracy: 0.8696\n",
            "Epoch 00078: saving model to model/best_model.ckpt\n",
            "84/84 [==============================] - 0s 4ms/step - loss: 0.0579 - accuracy: 0.8333 - val_loss: 0.1907 - val_accuracy: 0.6389\n",
            "Epoch 79/100\n",
            "77/84 [==========================>...] - ETA: 0s - loss: 0.0561 - accuracy: 0.8571\n",
            "Epoch 00079: saving model to model/best_model.ckpt\n",
            "84/84 [==============================] - 0s 4ms/step - loss: 0.0542 - accuracy: 0.8214 - val_loss: 0.1685 - val_accuracy: 0.6389\n",
            "Epoch 80/100\n",
            "69/84 [=======================>......] - ETA: 0s - loss: 0.0487 - accuracy: 0.9275\n",
            "Epoch 00080: saving model to model/best_model.ckpt\n",
            "84/84 [==============================] - 0s 4ms/step - loss: 0.0482 - accuracy: 0.8810 - val_loss: 0.1763 - val_accuracy: 0.6389\n",
            "Epoch 81/100\n",
            "81/84 [===========================>..] - ETA: 0s - loss: 0.0480 - accuracy: 0.8395\n",
            "Epoch 00081: saving model to model/best_model.ckpt\n",
            "84/84 [==============================] - 0s 4ms/step - loss: 0.0484 - accuracy: 0.8452 - val_loss: 0.1684 - val_accuracy: 0.6389\n",
            "Epoch 82/100\n",
            "83/84 [============================>.] - ETA: 0s - loss: 0.0464 - accuracy: 0.8795\n",
            "Epoch 00082: saving model to model/best_model.ckpt\n",
            "84/84 [==============================] - 0s 4ms/step - loss: 0.0459 - accuracy: 0.8810 - val_loss: 0.1674 - val_accuracy: 0.6389\n",
            "Epoch 83/100\n",
            "84/84 [==============================] - ETA: 0s - loss: 0.0529 - accuracy: 0.8452\n",
            "Epoch 00083: saving model to model/best_model.ckpt\n",
            "84/84 [==============================] - 0s 4ms/step - loss: 0.0529 - accuracy: 0.8452 - val_loss: 0.1738 - val_accuracy: 0.6389\n",
            "Epoch 84/100\n",
            "69/84 [=======================>......] - ETA: 0s - loss: 0.0692 - accuracy: 0.8841\n",
            "Epoch 00084: saving model to model/best_model.ckpt\n",
            "84/84 [==============================] - 0s 4ms/step - loss: 0.0642 - accuracy: 0.8452 - val_loss: 0.1692 - val_accuracy: 0.6389\n",
            "Epoch 85/100\n",
            "82/84 [============================>.] - ETA: 0s - loss: 0.0433 - accuracy: 0.8293\n",
            "Epoch 00085: saving model to model/best_model.ckpt\n",
            "84/84 [==============================] - 0s 4ms/step - loss: 0.0426 - accuracy: 0.8333 - val_loss: 0.1847 - val_accuracy: 0.6389\n",
            "Epoch 86/100\n",
            "64/84 [=====================>........] - ETA: 0s - loss: 0.0699 - accuracy: 0.9219\n",
            "Epoch 00086: saving model to model/best_model.ckpt\n",
            "84/84 [==============================] - 0s 4ms/step - loss: 0.0623 - accuracy: 0.8810 - val_loss: 0.1675 - val_accuracy: 0.6389\n",
            "Epoch 87/100\n",
            "70/84 [========================>.....] - ETA: 0s - loss: 0.0538 - accuracy: 0.9286\n",
            "Epoch 00087: saving model to model/best_model.ckpt\n",
            "84/84 [==============================] - 0s 4ms/step - loss: 0.0534 - accuracy: 0.8810 - val_loss: 0.1759 - val_accuracy: 0.6389\n",
            "Epoch 88/100\n",
            "78/84 [==========================>...] - ETA: 0s - loss: 0.0654 - accuracy: 0.8462\n",
            "Epoch 00088: saving model to model/best_model.ckpt\n",
            "84/84 [==============================] - 0s 4ms/step - loss: 0.0631 - accuracy: 0.8214 - val_loss: 0.1541 - val_accuracy: 0.5278\n",
            "Epoch 89/100\n",
            "63/84 [=====================>........] - ETA: 0s - loss: 0.0596 - accuracy: 0.9048\n",
            "Epoch 00089: saving model to model/best_model.ckpt\n",
            "84/84 [==============================] - 0s 4ms/step - loss: 0.0556 - accuracy: 0.8690 - val_loss: 0.1828 - val_accuracy: 0.6389\n",
            "Epoch 90/100\n",
            "73/84 [=========================>....] - ETA: 0s - loss: 0.0657 - accuracy: 0.8904\n",
            "Epoch 00090: saving model to model/best_model.ckpt\n",
            "84/84 [==============================] - 0s 4ms/step - loss: 0.0617 - accuracy: 0.8571 - val_loss: 0.1678 - val_accuracy: 0.6389\n",
            "Epoch 91/100\n",
            "63/84 [=====================>........] - ETA: 0s - loss: 0.0623 - accuracy: 0.8730\n",
            "Epoch 00091: saving model to model/best_model.ckpt\n",
            "84/84 [==============================] - 0s 4ms/step - loss: 0.0565 - accuracy: 0.8452 - val_loss: 0.1740 - val_accuracy: 0.6389\n",
            "Epoch 92/100\n",
            "71/84 [========================>.....] - ETA: 0s - loss: 0.0516 - accuracy: 0.8732\n",
            "Epoch 00092: saving model to model/best_model.ckpt\n",
            "84/84 [==============================] - 0s 4ms/step - loss: 0.0480 - accuracy: 0.8452 - val_loss: 0.1737 - val_accuracy: 0.6389\n",
            "Epoch 93/100\n",
            "81/84 [===========================>..] - ETA: 0s - loss: 0.0513 - accuracy: 0.8519\n",
            "Epoch 00093: saving model to model/best_model.ckpt\n",
            "84/84 [==============================] - 0s 4ms/step - loss: 0.0501 - accuracy: 0.8452 - val_loss: 0.1586 - val_accuracy: 0.5278\n",
            "Epoch 94/100\n",
            "72/84 [========================>.....] - ETA: 0s - loss: 0.0548 - accuracy: 0.8611\n",
            "Epoch 00094: saving model to model/best_model.ckpt\n",
            "84/84 [==============================] - 0s 4ms/step - loss: 0.0523 - accuracy: 0.8333 - val_loss: 0.1685 - val_accuracy: 0.5278\n",
            "Epoch 95/100\n",
            "73/84 [=========================>....] - ETA: 0s - loss: 0.0620 - accuracy: 0.8904\n",
            "Epoch 00095: saving model to model/best_model.ckpt\n",
            "84/84 [==============================] - 0s 4ms/step - loss: 0.0591 - accuracy: 0.8571 - val_loss: 0.1497 - val_accuracy: 0.5278\n",
            "Epoch 96/100\n",
            "82/84 [============================>.] - ETA: 0s - loss: 0.0589 - accuracy: 0.8415\n",
            "Epoch 00096: saving model to model/best_model.ckpt\n",
            "84/84 [==============================] - 0s 4ms/step - loss: 0.0581 - accuracy: 0.8452 - val_loss: 0.1708 - val_accuracy: 0.6389\n",
            "Epoch 97/100\n",
            "83/84 [============================>.] - ETA: 0s - loss: 0.0547 - accuracy: 0.8795\n",
            "Epoch 00097: saving model to model/best_model.ckpt\n",
            "84/84 [==============================] - 0s 4ms/step - loss: 0.0544 - accuracy: 0.8810 - val_loss: 0.1476 - val_accuracy: 0.6389\n",
            "Epoch 98/100\n",
            "71/84 [========================>.....] - ETA: 0s - loss: 0.0547 - accuracy: 0.9014\n",
            "Epoch 00098: saving model to model/best_model.ckpt\n",
            "84/84 [==============================] - 0s 4ms/step - loss: 0.0518 - accuracy: 0.8690 - val_loss: 0.1653 - val_accuracy: 0.6389\n",
            "Epoch 99/100\n",
            "75/84 [=========================>....] - ETA: 0s - loss: 0.0568 - accuracy: 0.9200\n",
            "Epoch 00099: saving model to model/best_model.ckpt\n",
            "84/84 [==============================] - 0s 4ms/step - loss: 0.0549 - accuracy: 0.8810 - val_loss: 0.1534 - val_accuracy: 0.6389\n",
            "Epoch 100/100\n",
            "84/84 [==============================] - ETA: 0s - loss: 0.0660 - accuracy: 0.8571\n",
            "Epoch 00100: saving model to model/best_model.ckpt\n",
            "84/84 [==============================] - 0s 4ms/step - loss: 0.0660 - accuracy: 0.8571 - val_loss: 0.1688 - val_accuracy: 0.6389\n"
          ],
          "name": "stdout"
        },
        {
          "output_type": "execute_result",
          "data": {
            "text/plain": [
              "<tensorflow.python.keras.callbacks.History at 0x7f7f734b1668>"
            ]
          },
          "metadata": {
            "tags": []
          },
          "execution_count": 51
        }
      ]
    },
    {
      "cell_type": "code",
      "metadata": {
        "id": "6k-0NTUbWupE",
        "outputId": "c1390cb0-4ac7-42d1-fdbd-b729854ac149",
        "colab": {
          "base_uri": "https://localhost:8080/"
        }
      },
      "source": [
        "model.load_weights(checkpoint_path)"
      ],
      "execution_count": 52,
      "outputs": [
        {
          "output_type": "execute_result",
          "data": {
            "text/plain": [
              "<tensorflow.python.training.tracking.util.CheckpointLoadStatus at 0x7f7f736cf400>"
            ]
          },
          "metadata": {
            "tags": []
          },
          "execution_count": 52
        }
      ]
    },
    {
      "cell_type": "code",
      "metadata": {
        "id": "Uiqy2zYnWxL-"
      },
      "source": [
        "def rmse(predictions, test_data):\n",
        "    \"\"\"\n",
        "    :param predictions: predicted series\n",
        "    :param test_data: the actual series\n",
        "    :return: Root Mean Squared Error (RMSE)\n",
        "    \"\"\"\n",
        "    residuals = test_data - predictions\n",
        "    return np.sqrt(np.mean(residuals ** 2))"
      ],
      "execution_count": 53,
      "outputs": []
    },
    {
      "cell_type": "code",
      "metadata": {
        "id": "JPxEAF16Wy-O"
      },
      "source": [
        "pred_train=model.predict(x_train)\n",
        "pred_val=model.predict(x_val)"
      ],
      "execution_count": 54,
      "outputs": []
    },
    {
      "cell_type": "code",
      "metadata": {
        "id": "gI1rDXYAyoca",
        "outputId": "1e6b7ae3-e909-4f39-9f4b-4a15c1df3ed7",
        "colab": {
          "base_uri": "https://localhost:8080/",
          "height": 286
        }
      },
      "source": [
        "plt.plot(y_train[:,:,1])\n",
        "plt.plot(pred_train[:,1])"
      ],
      "execution_count": 56,
      "outputs": [
        {
          "output_type": "execute_result",
          "data": {
            "text/plain": [
              "[<matplotlib.lines.Line2D at 0x7f7f6bb499b0>]"
            ]
          },
          "metadata": {
            "tags": []
          },
          "execution_count": 56
        },
        {
          "output_type": "display_data",
          "data": {
            "image/png": "[encoded data removed]",
            "text/plain": [
              "<Figure size 432x288 with 1 Axes>"
            ]
          },
          "metadata": {
            "tags": [],
            "needs_background": "light"
          }
        }
      ]
    },
    {
      "cell_type": "code",
      "metadata": {
        "id": "6I3ySzrvcDCN",
        "outputId": "3d13d67b-6c9c-4d93-d464-3df0f471ef22",
        "colab": {
          "base_uri": "https://localhost:8080/"
        }
      },
      "source": [
        "pred_train.shape"
      ],
      "execution_count": 279,
      "outputs": [
        {
          "output_type": "execute_result",
          "data": {
            "text/plain": [
              "(90, 5)"
            ]
          },
          "metadata": {
            "tags": []
          },
          "execution_count": 279
        }
      ]
    },
    {
      "cell_type": "code",
      "metadata": {
        "id": "WdqHTqizgFqJ"
      },
      "source": [
        "def get_single_day(data):\n",
        "  "
      ],
      "execution_count": null,
      "outputs": []
    },
    {
      "cell_type": "code",
      "metadata": {
        "id": "_vGzJL2xZ03C",
        "outputId": "ba1f0cea-50cd-46f8-ac08-c143445e5c3e",
        "colab": {
          "base_uri": "https://localhost:8080/"
        }
      },
      "source": [
        "y_train[:,:,:-1].shape"
      ],
      "execution_count": 293,
      "outputs": [
        {
          "output_type": "execute_result",
          "data": {
            "text/plain": [
              "(90, 1, 5)"
            ]
          },
          "metadata": {
            "tags": []
          },
          "execution_count": 293
        }
      ]
    },
    {
      "cell_type": "code",
      "metadata": {
        "id": "WtNh8jesZpSs"
      },
      "source": [
        "actual_train_inv=scaler.inverse_transform(np.squeeze(y_train[:,:,:-1]))\n",
        "actual_val_inv=scaler.inverse_transform(np.squeeze(y_val[:,:,:-1]))"
      ],
      "execution_count": 396,
      "outputs": []
    },
    {
      "cell_type": "code",
      "metadata": {
        "id": "A9vt_MCNXKUj"
      },
      "source": [
        "pred_train_inv=scaler.inverse_transform(pred_train)\n",
        "pred_val_inv=scaler.inverse_transform(pred_val)"
      ],
      "execution_count": 57,
      "outputs": []
    },
    {
      "cell_type": "code",
      "metadata": {
        "id": "_LS5jABLbo2J",
        "outputId": "0725f51c-9b36-45c7-acef-e01ec0b05038",
        "colab": {
          "base_uri": "https://localhost:8080/"
        }
      },
      "source": [
        "pred_train_inv[:,1]"
      ],
      "execution_count": 59,
      "outputs": [
        {
          "output_type": "execute_result",
          "data": {
            "text/plain": [
              "array([-3.6382031e+02, -6.9343750e+02, -8.4175586e+02, -9.2766602e+02,\n",
              "       -9.3021484e+02, -9.1717383e+02, -9.2000586e+02, -9.2175000e+02,\n",
              "       -9.3289844e+02, -9.6523047e+02, -9.5848438e+02, -9.8243750e+02,\n",
              "       -1.0460820e+03, -1.1138301e+03, -1.1915898e+03, -1.2785566e+03,\n",
              "       -1.3716992e+03, -1.4999531e+03, -1.5848867e+03, -1.6915820e+03,\n",
              "       -1.8290996e+03, -1.9181680e+03, -1.9968398e+03, -2.0302539e+03,\n",
              "       -1.6977812e+03, -1.1894746e+03,  9.8837891e+01,  3.0681445e+02,\n",
              "        5.1996094e+02, -9.2890625e+01, -2.0962500e+02,  2.7779297e+01,\n",
              "        4.8999609e+02,  1.5396465e+03,  1.7675352e+03,  2.0154492e+03,\n",
              "        1.9626623e+04,  1.9732061e+04,  1.9972498e+04,  2.1412719e+04,\n",
              "        2.4666625e+04,  2.4459490e+04,  2.5226668e+04,  2.5790967e+04,\n",
              "        2.6462902e+04,  2.7993719e+04,  2.6085553e+04,  2.5741592e+04,\n",
              "        2.4849381e+04,  2.5664203e+04,  2.6181984e+04,  2.9850875e+04,\n",
              "        2.9697373e+04,  3.0683641e+04,  3.0413916e+04,  3.0236914e+04,\n",
              "        3.0147547e+04,  2.8651975e+04,  2.8009938e+04,  2.5023564e+04,\n",
              "        2.8437297e+04,  2.9692148e+04,  2.9893766e+04,  2.9972076e+04,\n",
              "        2.9836848e+04,  2.8653828e+04,  2.9395633e+04,  3.0642832e+04,\n",
              "        2.7904625e+04,  3.0005559e+04,  2.8971197e+04,  3.0947840e+04,\n",
              "        2.1768314e+04,  1.9651250e+04,  1.9280385e+04,  2.2162172e+04,\n",
              "        2.3224617e+04,  2.2975486e+04,  2.1585316e+04,  2.1247885e+04,\n",
              "        1.9020057e+04,  1.9054748e+04,  1.9525832e+04,  2.0398391e+04],\n",
              "      dtype=float32)"
            ]
          },
          "metadata": {
            "tags": []
          },
          "execution_count": 59
        }
      ]
    },
    {
      "cell_type": "code",
      "metadata": {
        "id": "f_JgEd97wFrD",
        "outputId": "31aa46b5-dfef-484b-996f-760e6909dd8d",
        "colab": {
          "base_uri": "https://localhost:8080/"
        }
      },
      "source": [
        "prediction[:,1]"
      ],
      "execution_count": 406,
      "outputs": [
        {
          "output_type": "execute_result",
          "data": {
            "text/plain": [
              "array([-2691.9883, -2688.5059, -2686.6504, -2684.875 , -2683.498 ,\n",
              "       -2681.8008, -2678.963 , -2675.5547, -2670.6836, -2661.8125,\n",
              "       -2654.8223, -2641.8047, -2610.6504, -2559.668 , -2476.8496,\n",
              "       -2348.4492, -2159.1172, -1894.2871, -1702.3047, -1498.2461,\n",
              "       -1372.5   , -1315.2129, -1276.8047, -1314.3379, -1340.2227,\n",
              "       -1404.8379, -1487.4121, -1617.1816, -1637.3945, -1624.2363,\n",
              "       -1585.7012, -1609.6289, -1609.6289, -1648.0352, -1648.0352,\n",
              "       -1287.7832, -1287.7832,  1530.6602,  1530.6602,  3180.9268,\n",
              "        3180.9268,  5735.341 ,  5735.341 , 12729.297 , 12729.297 ,\n",
              "       36559.016 , 36596.453 , 36094.848 , 33863.17  , 32885.043 ,\n",
              "       31671.96  , 31036.148 , 30597.684 , 29869.348 , 29583.887 ,\n",
              "       28329.996 , 28969.902 , 29753.102 , 29804.36  , 29727.953 ,\n",
              "       29428.502 , 29032.91  , 29505.617 , 29876.113 , 28965.52  ,\n",
              "       29326.832 , 28846.314 , 29322.17  , 27302.074 , 25437.773 ,\n",
              "       24806.393 , 24594.535 , 26082.766 , 26254.098 , 25899.57  ,\n",
              "       24294.023 , 24294.023 , 24780.184 , 24780.184 , 24219.818 ,\n",
              "       24219.818 , 23158.023 , 23158.023 , 23335.754 , 23335.754 ,\n",
              "       23841.84  , 23841.84  , 23207.727 , 23207.729 , 22305.809 ,\n",
              "       31441.02  , 32003.996 , 32374.73  , 32544.846 , 32733.18  ,\n",
              "       33462.83  , 34623.242 , 35747.8   , 35951.008 , 36082.832 ,\n",
              "       36094.95  , 36213.68  , 36708.61  , 36642.19  , 36562.742 ,\n",
              "       22186.145 , 22327.16  , 22358.217 , 22314.39  , 22158.895 ,\n",
              "       21962.736 , 21748.238 , 21599.336 , 21497.113 , 21450.613 ,\n",
              "       21436.727 , 21408.88  , 21356.44  , 21277.736 , 21166.781 ],\n",
              "      dtype=float32)"
            ]
          },
          "metadata": {
            "tags": []
          },
          "execution_count": 406
        }
      ]
    },
    {
      "cell_type": "code",
      "metadata": {
        "id": "0tY9ZDzDukxa",
        "outputId": "599abc80-35cb-45c5-8029-8c1249b31d0f",
        "colab": {
          "base_uri": "https://localhost:8080/",
          "height": 283
        }
      },
      "source": [
        "import matplotlib.pyplot as plt\n",
        "prediction=np.append(pred_train_inv,pred_val_inv,axis=0)\n",
        "scaled=np.append(actual_train_inv,actual_val_inv,axis=0)\n",
        "scaled_us=pd.DataFrame(data=scaled[:,1],columns=['us'])\n",
        "prediction_us=pd.DataFrame(data=prediction[:,1],columns=['us'])\n",
        "plt.plot(prediction_us.us, 'b', label='Prediction')\n",
        "plt.plot(scaled_us.us, 'r', label='Scaled')"
      ],
      "execution_count": 399,
      "outputs": [
        {
          "output_type": "execute_result",
          "data": {
            "text/plain": [
              "[<matplotlib.lines.Line2D at 0x7f62a1c6d390>]"
            ]
          },
          "metadata": {
            "tags": []
          },
          "execution_count": 399
        },
        {
          "output_type": "display_data",
          "data": {
            "image/png": "[encoded data removed]",
            "text/plain": [
              "<Figure size 432x288 with 1 Axes>"
            ]
          },
          "metadata": {
            "tags": [],
            "needs_background": "light"
          }
        }
      ]
    },
    {
      "cell_type": "code",
      "metadata": {
        "id": "7J7XuKq2uhEZ"
      },
      "source": [
        "import matplotlib.pyplot as plt\n",
        "prediction=np.append(pred_train_inv,pred_val_inv,axis=0)\n",
        "scaled=np.append(scaled_train_inv,scaled_val_inv,axis=0)\n",
        "actual=np.append(actual_train,actual_val,axis=0)\n",
        "\n",
        "prediction_us=pd.DataFrame(data=prediction[:,3],columns=['us'])\n",
        "scaled_us=pd.DataFrame(data=scaled[:,3],columns=['us'])\n",
        "actual_us=pd.DataFrame(data=actual[:,3],columns=['us'])\n",
        "plt.plot(prediction_us.us, 'b', label='Prediction')\n",
        "#plt.plot(scaled_us.us, 'r', label='Scaled')\n",
        "plt.plot(actual_us.us, 'g', label='actual')"
      ],
      "execution_count": null,
      "outputs": []
    }
  ]
}